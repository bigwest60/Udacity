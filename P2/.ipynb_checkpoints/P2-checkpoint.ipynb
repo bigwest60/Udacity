{
 "cells": [
  {
   "cell_type": "markdown",
   "metadata": {},
   "source": [
    "# Project 2 \n",
    "#### William Cropper"
   ]
  },
  {
   "cell_type": "markdown",
   "metadata": {},
   "source": [
    "### Section 0. References\n",
    "\n",
    "- [iPython Notebook tutorial](https://www.youtube.com/watch?v=xe_ATRmw0KM)\n",
    "- [Python Data Analysis Library - Pandas](http://pandas.pydata.org)\n",
    "- [Calculate variance](http://stackoverflow.com/questions/16670658/python-variance-of-a-list-of-defined-numbers#16670783)\n",
    "- [Welch's t-test](https://en.wikipedia.org/wiki/Welch%27s_t_test)\n",
    "- [Shapiro-Wilk test for normality](http://docs.scipy.org/doc/scipy/reference/generated/scipy.stats.shapiro.html)\n",
    "- [Matplotlib gallery](http://matplotlib.org/gallery)\n",
    "- [Matplotlib Pyplot tutorial](http://matplotlib.org/users/pyplot_tutorial.html)\n",
    "- [Matplotlib documentation](http://matplotlib.org/contents.html)\n",
    "- [Plotting documentation](http://pandas.pydata.org/pandas-docs/stable/visualization.html)\n",
    "- [P-value](https://en.wikipedia.org/wiki/P-value#Misunderstandings)\n",
    "- [Mann-Whitney U test](https://en.wikipedia.org/wiki/Mann–Whitney_U_test)\n",
    "- [Analyzing and Manipulating Data with Pandas](https://www.youtube.com/watch?v=0CFFTJUZ2dc)\n",
    "- [Coefficient of determination](https://en.wikipedia.org/wiki/Coefficient_of_determination)\n",
    "- [Difference between One-tailed and Two-tailed tests](http://www.ats.ucla.edu/stat/mult_pkg/faq/general/tail_tests.htm)"
   ]
  },
  {
   "cell_type": "markdown",
   "metadata": {},
   "source": [
    "### Section 1. Statistical Test\n",
    "\n",
    "1.1 Which statistical test did you use to analyze the NYC subway data? Did you use a one-tail or a two-tail P value? What is the null hypothesis? What is your p-critical value?"
   ]
  },
  {
   "cell_type": "markdown",
   "metadata": {},
   "source": [
    "1.1 ANSWER:\n",
    "- Statistical test used: Whitney-Mann U test (explanation below)\n",
    "- One-tail or two-tail: Two-tailed being used because it does not matter if ridership is higher or lower.  Only that it is significantly different.\n",
    "- Null hypothesis: There is no difference in ridership due to rain.  With H0:P(x > y) = 0.5 and H1:P(x > y) <> 0.5\n",
    "- P-critical: .05 which reflects a 95% confidence level"
   ]
  },
  {
   "cell_type": "markdown",
   "metadata": {},
   "source": [
    "1.2 Why is this statistical test applicable to the dataset? In particular, consider the assumptions that the test is making about the distribution of ridership in the two samples."
   ]
  },
  {
   "cell_type": "code",
   "execution_count": 120,
   "metadata": {
    "collapsed": false
   },
   "outputs": [],
   "source": [
    "# Initial setup\n",
    "\n",
    "%matplotlib inline\n",
    "import pandas as pd\n",
    "import scipy.stats\n",
    "import numpy as np\n",
    "import matplotlib.pyplot as plt\n",
    "import statsmodels.api as sm\n",
    "\n",
    "from pandas import set_option\n",
    "set_option(\"display.max_rows\", 8)\n",
    "\n",
    "columns_v2=[\"UNIT\",\"DATEn\",\"TIMEn\",\"hour\",\"ENTRIESn_hourly\",\"EXITSn_hourly\",\"meanpressurei\",\"fog\",\n",
    "            \"rain\",\"meantempi\",\"precipi\"]\n",
    "columns_master=[\"UNIT\",\"DATEn\",\"TIMEn\",\"Hour\",\"ENTRIESn_hourly\",\"EXITSn_hourly\",\"meanpressurei\",\"fog\",\n",
    "                \"rain\",\"meantempi\",\"precipi\"]\n",
    "df = pd.read_csv('improved-dataset/turnstile_weather_v2.csv', usecols=columns_v2)\n",
    "#df = pd.read_csv('original-dataset/turnstile_data_master_with_weather.csv', usecols=columns_master)\n",
    "\n",
    "df.rename(columns={'Hour':'hour'}, inplace=True)"
   ]
  },
  {
   "cell_type": "code",
   "execution_count": 121,
   "metadata": {
    "collapsed": false
   },
   "outputs": [
    {
     "name": "stdout",
     "output_type": "stream",
     "text": [
      "P-value: 0.0\n",
      "Sample size: 42649\n",
      "NOTE: The p-value may not be accurate for sample size > 5000\n",
      "So I will use a plot instead to make a determination\n"
     ]
    }
   ],
   "source": [
    "# Determine statistical test to use\n",
    "# Try Shapiro-Wilk\n",
    "\n",
    "w,p = scipy.stats.shapiro(df['ENTRIESn_hourly'])\n",
    "print \"P-value: %s\" % p\n",
    "print \"Sample size: %s\" % len(df['ENTRIESn_hourly'])\n",
    "print \"NOTE: The p-value may not be accurate for sample size > 5000\"\n",
    "print \"So I will use a plot instead to make a determination\""
   ]
  },
  {
   "cell_type": "code",
   "execution_count": 122,
   "metadata": {
    "collapsed": false
   },
   "outputs": [
    {
     "data": {
      "image/png": "[encoded data removed]",
      "text/plain": [
       "<matplotlib.figure.Figure at 0x10bb65f50>"
      ]
     },
     "metadata": {},
     "output_type": "display_data"
    },
    {
     "name": "stdout",
     "output_type": "stream",
     "text": [
      "\n",
      "1.2 ANSWER:\n",
      "Because the two samples are non-parametric (non-normal), the Whitney-Mann U test applies.\n",
      "\n"
     ]
    }
   ],
   "source": [
    "rain = df[df.rain==1]['ENTRIESn_hourly']\n",
    "no_rain = df[df.rain==0]['ENTRIESn_hourly']\n",
    "\n",
    "rain.plot(kind=\"hist\", bins=50)\n",
    "no_rain.plot(kind=\"hist\", bins=50)\n",
    "plt.xlim([0,10000])\n",
    "plt.show()\n",
    "print \"\\n1.2 ANSWER:\"\n",
    "print \"Because the two samples are non-parametric (non-normal), the Whitney-Mann U test applies.\\n\""
   ]
  },
  {
   "cell_type": "markdown",
   "metadata": {},
   "source": [
    "1.3 What results did you get from this statistical test? These should include the following numerical values: p-values, as well as the means for each of the two samples under test."
   ]
  },
  {
   "cell_type": "code",
   "execution_count": 123,
   "metadata": {
    "collapsed": false
   },
   "outputs": [
    {
     "name": "stdout",
     "output_type": "stream",
     "text": [
      "\n",
      "1.3 ANSWER:\n",
      "P-value (two-tail): 5.48213914249e-06\n",
      "Rain mean: 2028.19603547\n",
      "No Rain mean: 1845.53943866\n"
     ]
    }
   ],
   "source": [
    "#Mann-Whitney U test\n",
    "\n",
    "U, p_value = scipy.stats.mannwhitneyu(rain, no_rain)\n",
    "p_value = p_value * 2\n",
    "\n",
    "rain_mean = np.mean(rain)\n",
    "no_rain_mean = np.mean(no_rain)\n",
    "\n",
    "print \"\\n1.3 ANSWER:\"\n",
    "print \"P-value (two-tail): %s\" % p_value\n",
    "print \"Rain mean: %s\" % rain_mean\n",
    "print \"No Rain mean: %s\" % no_rain_mean"
   ]
  },
  {
   "cell_type": "markdown",
   "metadata": {},
   "source": [
    "1.4 What is the significance and interpretation of these results?"
   ]
  },
  {
   "cell_type": "code",
   "execution_count": 124,
   "metadata": {
    "collapsed": false
   },
   "outputs": [
    {
     "name": "stdout",
     "output_type": "stream",
     "text": [
      "\n",
      "1.4 ANSWER:\n",
      "P-critical: 0.05 (95% significance level)\n",
      "P-value: 5.48213914249e-06\n",
      "The P-value is less than or equal to P-critical.  Therefore, the null hypothesis is rejected.\n",
      "This implies the ridership is statistically different on rainy days than compared to non-rainy days.\n",
      "\n",
      "Since the p-value is a positive number, it would indicate that ridership would be higher on rainy days.\n",
      "\n"
     ]
    }
   ],
   "source": [
    "p_critical = .05\n",
    "\n",
    "print \"\\n1.4 ANSWER:\"\n",
    "print \"P-critical:\", p_critical, \"(95% significance level)\"\n",
    "print \"P-value:\", p_value\n",
    "\n",
    "if p_value <= p_critical:\n",
    "    print \"The P-value is less than or equal to P-critical.  Therefore, the null hypothesis is rejected.\"\n",
    "    print \"This implies the ridership is statistically different on rainy days than compared to non-rainy days.\"    \n",
    "else:\n",
    "    print \"The P-value is greater than the P-critical.  Therefore, the null hypothesis is accepted.\"\n",
    "    print \"The samples are consistent with the null hypothesis\"\n",
    "    \n",
    "print \"\\nSince the p-value is a positive number, it would indicate that ridership would be higher on rainy days.\\n\""
   ]
  },
  {
   "cell_type": "markdown",
   "metadata": {},
   "source": [
    "---\n",
    "### Section 2. Linear Regression\n",
    "\n",
    "2.1\tWhat approach did you use to compute the coefficients theta and produce prediction for ENTRIESn_hourly in your regression model: (OLS using Statsmodels or Scikit Learn, Gradient descent using Scikit Learn, or something different?)\n",
    "\n",
    "2.1 ANSWER: OLS using Statsmodels was used to compute theta"
   ]
  },
  {
   "cell_type": "code",
   "execution_count": 125,
   "metadata": {
    "collapsed": false
   },
   "outputs": [
    {
     "name": "stdout",
     "output_type": "stream",
     "text": [
      "Predictions: [ -974.11099215  -480.30206426   507.31579151 ...,    52.18012039\n",
      "   545.98904827  1039.79797616]\n",
      "\n",
      "theta:\n",
      "rain         137.051521\n",
      "hour         123.452232\n",
      "meantempi    -11.689221\n",
      "fog         -706.942842\n",
      "dtype: float64\n"
     ]
    }
   ],
   "source": [
    "# OLS\n",
    "\n",
    "# define features\n",
    "features = df[['rain', 'hour', 'meantempi', 'fog']]\n",
    "dummy_units = pd.get_dummies(df['UNIT'], prefix='unit')\n",
    "features = features.join(dummy_units)\n",
    "\n",
    "# Values\n",
    "values = df['ENTRIESn_hourly']\n",
    "\n",
    "# Perform linear regression\n",
    "Y = values\n",
    "X = features\n",
    "X = sm.add_constant(X)\n",
    "\n",
    "model = sm.OLS(Y,X)\n",
    "results = model.fit()\n",
    "params = results.params    \n",
    "intercept = params[0]\n",
    "params = params[1:]\n",
    "\n",
    "predictions = intercept + np.dot(features, params)\n",
    "print \"Predictions:\", predictions\n",
    "print \"\\ntheta:\\n\", params[0:4]\n",
    "\n",
    "#(df['ENTRIESn_hourly'] - predictions).plot(kind='hist')"
   ]
  },
  {
   "cell_type": "markdown",
   "metadata": {},
   "source": [
    "2.2\tWhat features (input variables) did you use in your model? Did you use any dummy variables as part of your features?"
   ]
  },
  {
   "cell_type": "code",
   "execution_count": 126,
   "metadata": {
    "collapsed": false
   },
   "outputs": [
    {
     "name": "stdout",
     "output_type": "stream",
     "text": [
      "\n",
      "2.2 ANSWER\n",
      "Features: Index([u'rain', u'hour', u'meantempi', u'fog'], dtype='object')\n",
      "Dummy: Index([u'unit_R003', u'unit_R004', u'unit_R005', u'unit_R006', u'unit_R007',\n",
      "       u'unit_R008', u'unit_R009', u'unit_R011', u'unit_R012', u'unit_R013',\n",
      "       ...\n",
      "       u'unit_R373', u'unit_R382', u'unit_R424', u'unit_R429', u'unit_R453',\n",
      "       u'unit_R454', u'unit_R455', u'unit_R456', u'unit_R459', u'unit_R464'],\n",
      "      dtype='object', length=240)\n"
     ]
    }
   ],
   "source": [
    "print \"\\n2.2 ANSWER\"\n",
    "print \"Features:\",features.columns[:4]\n",
    "print \"Dummy:\",features.columns[4:]"
   ]
  },
  {
   "cell_type": "markdown",
   "metadata": {},
   "source": [
    "2.3\tWhy did you select these features in your model? We are looking for specific reasons that lead you to believe that the selected features will contribute to the predictive power of your model. \n",
    "\n",
    "2.3 ANSWER:  The features I selected were based on weather and time.  Rain, fog, or temperature would seem reasonable to expect an impact to ridership.  Along with time of day because of work commuters."
   ]
  },
  {
   "cell_type": "markdown",
   "metadata": {},
   "source": [
    "2.4\tWhat are the parameters (also known as \"coefficients\" or \"weights\") of the non-dummy features in your linear regression model?"
   ]
  },
  {
   "cell_type": "code",
   "execution_count": 127,
   "metadata": {
    "collapsed": false
   },
   "outputs": [
    {
     "name": "stdout",
     "output_type": "stream",
     "text": [
      "\n",
      "2.4 ANSWER:\n",
      "Parameters w/o dummy:\n",
      "rain         161.654713\n",
      "hour         122.431920\n",
      "meantempi     -8.710963\n",
      "fog         -706.286112\n",
      "dtype: float64\n"
     ]
    }
   ],
   "source": [
    "# define features\n",
    "features = df[['rain', 'hour', 'meantempi', 'fog']]\n",
    "#dummy_units = pd.get_dummies(df['UNIT'], prefix='unit')\n",
    "#features = features.join(dummy_units)\n",
    "\n",
    "# Values\n",
    "values = df['ENTRIESn_hourly']\n",
    "\n",
    "# Perform linear regression\n",
    "Y = values\n",
    "X = features\n",
    "X = sm.add_constant(X)\n",
    "\n",
    "model = sm.OLS(Y,X)\n",
    "results = model.fit()\n",
    "params = results.params    \n",
    "intercept = params[0]\n",
    "params = params[1:]\n",
    "\n",
    "print \"\\n2.4 ANSWER:\"\n",
    "print \"Parameters w/o dummy:\\n\", params"
   ]
  },
  {
   "cell_type": "markdown",
   "metadata": {},
   "source": [
    "2.5\tWhat is your model’s R2 (coefficients of determination) value?"
   ]
  },
  {
   "cell_type": "code",
   "execution_count": 128,
   "metadata": {
    "collapsed": false
   },
   "outputs": [
    {
     "name": "stdout",
     "output_type": "stream",
     "text": [
      "\n",
      "2.5 ANSWER:\n",
      "R^2: 0.460688847525\n"
     ]
    }
   ],
   "source": [
    "# r-squared\n",
    "y = values\n",
    "f = predictions\n",
    "y_bar=np.mean(y)\n",
    "r_squared = 1 - ((np.sum((y - f)**2)) / (np.sum((y - y_bar)**2)))\n",
    "\n",
    "print \"\\n2.5 ANSWER:\"\n",
    "print \"R^2:\", r_squared"
   ]
  },
  {
   "cell_type": "markdown",
   "metadata": {},
   "source": [
    "2.6\tWhat does this R2 value mean for the goodness of fit for your regression model? Do you think this linear model to predict ridership is appropriate for this dataset, given this R2 value?\n",
    "\n",
    "2.6 ANSWER:  R2 value represents the ratio between the variance of the predictions with the variance of the data.  The R2 value shows the percentage of what can be explained to what cannot be explained.  The R2 value calculated for the imnproved v2 dataset shows that 46% of the variability is accounted for which would not be a reasonable predictor of ridership based on the features modeled."
   ]
  },
  {
   "cell_type": "markdown",
   "metadata": {},
   "source": [
    "---\n",
    "### Section 3. Visualization\n",
    "\n",
    "Please include two visualizations that show the relationships between two or more variables in the NYC subway data. Remember to add appropriate titles and axes labels to your plots. Also, please add a short description below each figure commenting on the key insights depicted in the figure.\n",
    "\n",
    "3.1\tOne visualization should contain two histograms: one of  ENTRIESn_hourly for rainy days and one of ENTRIESn_hourly for non-rainy days.\n",
    "- You can combine the two histograms in a single plot or you can use two separate plots.\n",
    "- If you decide to use to two separate plots for the two histograms, please ensure that the x-axis limits for both of the plots are identical. It is much easier to compare the two in that case.\n",
    "- For the histograms, you should have intervals representing the volume of ridership (value of ENTRIESn_hourly) on the x-axis and the frequency of occurrence on the y-axis. For example, each interval (along the x-axis), the height of the bar for this interval will represent the number of records (rows in our data) that have ENTRIESn_hourly that falls in this interval.\n",
    "- Remember to increase the number of bins in the histogram (by having larger number of bars). The default bin width is not sufficient to capture the variability in the two samples."
   ]
  },
  {
   "cell_type": "code",
   "execution_count": 129,
   "metadata": {
    "collapsed": false,
    "scrolled": true
   },
   "outputs": [
    {
     "name": "stdout",
     "output_type": "stream",
     "text": [
      "\n",
      "3.1 ANSWER\n"
     ]
    },
    {
     "data": {
      "image/png": "[encoded data removed]",
      "text/plain": [
       "<matplotlib.figure.Figure at 0x10dc3bc10>"
      ]
     },
     "metadata": {},
     "output_type": "display_data"
    },
    {
     "name": "stdout",
     "output_type": "stream",
     "text": [
      "These histograms show the ridership on both rainy and non-rainy days.  Although the histograms look similar,\n",
      "one cannot assume that there is not a statistical change in ridership.  The histograms do however show that\n",
      "the samples are non-parametric.\n",
      "\n"
     ]
    }
   ],
   "source": [
    "rain = df[df.rain==1]['ENTRIESn_hourly']\n",
    "no_rain = df[df.rain==0]['ENTRIESn_hourly']\n",
    "\n",
    "fig, (ax0, ax1) = plt.subplots(ncols=2, figsize=(16, 4), sharex=True)\n",
    "plt.xlim([0,10000])\n",
    "ax0.hist([rain], bins=50, color='g')\n",
    "ax0.set_title('Rain')\n",
    "ax0.set_xlabel('ENTRIESn_hourly')\n",
    "ax0.set_ylabel('Occurrences')\n",
    "\n",
    "ax1.hist([no_rain], bins=50, color='b')\n",
    "ax1.set_title('No Rain')\n",
    "ax1.set_xlabel('ENTRIESn_hourly')\n",
    "ax1.set_ylabel('Occurrences')\n",
    "\n",
    "print \"\\n3.1 ANSWER\"\n",
    "plt.show()\n",
    "\n",
    "print \"These histograms show the ridership on both rainy and non-rainy days.  Although the histograms look similar,\"\n",
    "print \"one cannot assume that there is not a statistical change in ridership.  The histograms do however show that\"\n",
    "print \"the samples are non-parametric.\\n\""
   ]
  },
  {
   "cell_type": "markdown",
   "metadata": {},
   "source": [
    "3.2\tOne visualization can be more freeform. You should feel free to implement something that we discussed in class (e.g., scatter plots, line plots) or attempt to implement something more advanced if you'd like. Some suggestions are:\n",
    "-Ridership by time-of-day\n",
    "-Ridership by day-of-week"
   ]
  },
  {
   "cell_type": "code",
   "execution_count": 130,
   "metadata": {
    "collapsed": false
   },
   "outputs": [
    {
     "data": {
      "image/png": "[encoded data removed]",
      "text/plain": [
       "<matplotlib.figure.Figure at 0x10dc1b4d0>"
      ]
     },
     "metadata": {},
     "output_type": "display_data"
    },
    {
     "name": "stdout",
     "output_type": "stream",
     "text": [
      "This plot shows the number of riders per hour.  Interestingly the peaks are at noon and at 8pm.\n",
      "I would have expected highest ridership would be early morning and late afternoon which would\n",
      "reflect the work commuters.\n",
      "\n"
     ]
    }
   ],
   "source": [
    "var=df.groupby(['hour']).ENTRIESn_hourly.sum() / 1000000\n",
    "plt.xlabel('Hour')\n",
    "plt.ylabel('Number of Riders (millions)')\n",
    "var.plot(kind='line', title='Ridership per Hour', xticks=[0,4,8,12,16,20,24]);\n",
    "plt.show()\n",
    "\n",
    "print \"This plot shows the number of riders per hour.  Interestingly the peaks are at noon and at 8pm.\"\n",
    "print \"I would have expected highest ridership would be early morning and late afternoon which would\"\n",
    "print \"reflect the work commuters.\\n\""
   ]
  },
  {
   "cell_type": "markdown",
   "metadata": {},
   "source": [
    "---\n",
    "### Section 4. Conclusion\n",
    "Please address the following questions in detail. Your answers should be 1-2 paragraphs long.\n",
    "\n",
    "4.1\tFrom your analysis and interpretation of the data, do more people ride the NYC subway when it is raining or when it is not raining?  \n",
    "\n",
    "4.1 ANSWER:  Depends on which datasets get analyzed.  The two datsets (original, and improved v2) provided different conclusions.\n",
    "\n",
    "**Improved v2 (used in this analysis):**\n",
    "The results from the Mann-Whitney U test provided a p-value of (5.48e-06).  This is much less (by many orders of magnitude) than that of the p-critical value with a significance level of 95%.  This value would indicate that the null hypothesis should be REJECTED.  By rejecting the null hypotheses (no change in ridership when it is raining), leads to the possibility of a change in ridership.  \n",
    "\n",
    "**Original (used for comparison):**\n",
    "The results from the Mann-Whitney U test provided a p-value of (0.049999825587).  This is less (or equal if rounding to 2 decinal places) than the p-critical value with a significance level of 95%.  This indicates that the null hypothesis should also be REJECTED.  Which also leads to the possibility of a change in ridership."
   ]
  },
  {
   "cell_type": "markdown",
   "metadata": {},
   "source": [
    "4.2\tWhat analyses lead you to this conclusion? You should use results from both your statistical tests and your linear regression to support your analysis.\n",
    "\n",
    "4.2 ANSWER:  First I needed to determine if the data was normal or non-normal before electing a statistical test.  The Shapio Wilk test was not good for datasets larger than 5000, so I plotted the data and determined that the dataset that was to be analyzed was non-normal.  Because the Welch's t-test is for normal datasets, I used the Mann-Whitney U test which is applicable for non-normal datasets.  With regards to Linear Regression, OLS using Statsmodels was used to compute theta.  This provided weights with negative values and causing the predictions to also have some negative values.  Since the R2 was under 50% and having negative predictions, leads me to conclude that the linear regression model should not be used to predict ridership.  Analysis should be soley based on samples and not rely on machine learning."
   ]
  },
  {
   "cell_type": "markdown",
   "metadata": {},
   "source": [
    "---\n",
    "### Section 5. Reflection\n",
    "Please address the following questions in detail. Your answers should be 1-2 paragraphs long.\n",
    "\n",
    "5.1\tPlease discuss potential shortcomings of the methods of your analysis, including:\n",
    "\n",
    "5.1 ANSWER:\n",
    "- **Dataset** : As learned from previous feedback, the samples were taken during the month of May, 2011.  It is not clear if this the rainy season in NYC.  Or if 1 month of data is sufficient.  A sample spanning multiple months during different seasons would have been more desirable in determination if rainy weather laffects ridership.\n",
    "- **Analysis, such as the linear regression model or statistical test** - Again as I stated previously, the linear regression method used (OLS using Statsmodels) did not present good predictions (and weights) based on the value obtained when calculating R2.  If R2 would have been closer to 100% than being under 50% I would have made my conclusion different than stating the method used was inadequate as a predictor."
   ]
  },
  {
   "cell_type": "code",
   "execution_count": 131,
   "metadata": {
    "collapsed": false
   },
   "outputs": [
    {
     "name": "stdout",
     "output_type": "stream",
     "text": [
      "Start date:  05-01-11\n",
      "End date:  05-31-11\n"
     ]
    }
   ],
   "source": [
    "print \"Start date: \", df.DATEn.min()\n",
    "print \"End date: \", df.DATEn.max()"
   ]
  },
  {
   "cell_type": "markdown",
   "metadata": {},
   "source": [
    "5.2\t(Optional) Do you have any other insight about the dataset that you would like to share with us?\n",
    "\n",
    "5.2 ANSWER: Nothing to contribute. "
   ]
  }
 ],
 "metadata": {
  "kernelspec": {
   "display_name": "Python 2",
   "language": "python",
   "name": "python2"
  },
  "language_info": {
   "codemirror_mode": {
    "name": "ipython",
    "version": 2
   },
   "file_extension": ".py",
   "mimetype": "text/x-python",
   "name": "python",
   "nbconvert_exporter": "python",
   "pygments_lexer": "ipython2",
   "version": "2.7.10"
  }
 },
 "nbformat": 4,
 "nbformat_minor": 0
}
